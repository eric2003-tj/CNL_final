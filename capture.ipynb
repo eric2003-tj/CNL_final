{
 "cells": [
  {
   "cell_type": "code",
   "execution_count": 2,
   "metadata": {},
   "outputs": [
    {
     "name": "stdout",
     "output_type": "stream",
     "text": [
      "Collecting scapy\n",
      "  Using cached scapy-2.6.1-py3-none-any.whl.metadata (5.6 kB)\n",
      "Using cached scapy-2.6.1-py3-none-any.whl (2.4 MB)\n",
      "Installing collected packages: scapy\n",
      "Successfully installed scapy-2.6.1\n"
     ]
    }
   ],
   "source": [
    "!pip install scapy"
   ]
  },
  {
   "cell_type": "code",
   "execution_count": 2,
   "metadata": {},
   "outputs": [
    {
     "ename": "FileNotFoundError",
     "evalue": "[Errno 2] No such file or directory: '~/Desktop/traffic_data1.pcap'",
     "output_type": "error",
     "traceback": [
      "\u001b[0;31m---------------------------------------------------------------------------\u001b[0m",
      "\u001b[0;31mFileNotFoundError\u001b[0m                         Traceback (most recent call last)",
      "\u001b[1;32m/Users/eric1026/CNL_final/dataset/capture.ipynb Cell 2\u001b[0m line \u001b[0;36m4\n\u001b[1;32m      <a href='vscode-notebook-cell:/Users/eric1026/CNL_final/dataset/capture.ipynb#W1sZmlsZQ%3D%3D?line=0'>1</a>\u001b[0m \u001b[39mfrom\u001b[39;00m\u001b[39m \u001b[39m\u001b[39mscapy\u001b[39;00m\u001b[39m.\u001b[39;00m\u001b[39mall\u001b[39;00m\u001b[39m \u001b[39m\u001b[39mimport\u001b[39;00m rdpcap, IP, TCP, UDP, Raw\n\u001b[1;32m      <a href='vscode-notebook-cell:/Users/eric1026/CNL_final/dataset/capture.ipynb#W1sZmlsZQ%3D%3D?line=1'>2</a>\u001b[0m \u001b[39mimport\u001b[39;00m\u001b[39m \u001b[39m\u001b[39mpandas\u001b[39;00m\u001b[39m \u001b[39m\u001b[39mas\u001b[39;00m\u001b[39m \u001b[39m\u001b[39mpd\u001b[39;00m\n\u001b[0;32m----> <a href='vscode-notebook-cell:/Users/eric1026/CNL_final/dataset/capture.ipynb#W1sZmlsZQ%3D%3D?line=3'>4</a>\u001b[0m packets \u001b[39m=\u001b[39m rdpcap(\u001b[39m\"\u001b[39;49m\u001b[39m~/Desktop/traffic_data1.pcap\u001b[39;49m\u001b[39m\"\u001b[39;49m)\n\u001b[1;32m      <a href='vscode-notebook-cell:/Users/eric1026/CNL_final/dataset/capture.ipynb#W1sZmlsZQ%3D%3D?line=4'>5</a>\u001b[0m data \u001b[39m=\u001b[39m []\n\u001b[1;32m      <a href='vscode-notebook-cell:/Users/eric1026/CNL_final/dataset/capture.ipynb#W1sZmlsZQ%3D%3D?line=6'>7</a>\u001b[0m \u001b[39mfor\u001b[39;00m i, pkt \u001b[39min\u001b[39;00m \u001b[39menumerate\u001b[39m(packets):\n",
      "File \u001b[0;32m~/qiskit/miniconda3/envs/qiskit/lib/python3.13/site-packages/scapy/utils.py:1345\u001b[0m, in \u001b[0;36mrdpcap\u001b[0;34m(filename, count)\u001b[0m\n\u001b[1;32m   1337\u001b[0m \u001b[39m\u001b[39m\u001b[39m\"\"\"Read a pcap or pcapng file and return a packet list\u001b[39;00m\n\u001b[1;32m   1338\u001b[0m \n\u001b[1;32m   1339\u001b[0m \u001b[39m:param count: read only <count> packets\u001b[39;00m\n\u001b[1;32m   1340\u001b[0m \u001b[39m\"\"\"\u001b[39;00m\n\u001b[1;32m   1341\u001b[0m \u001b[39m# Rant: Our complicated use of metaclasses and especially the\u001b[39;00m\n\u001b[1;32m   1342\u001b[0m \u001b[39m# __call__ function is, of course, not supported by MyPy.\u001b[39;00m\n\u001b[1;32m   1343\u001b[0m \u001b[39m# One day we should simplify this mess and use a much simpler\u001b[39;00m\n\u001b[1;32m   1344\u001b[0m \u001b[39m# layout that will actually be supported and properly dissected.\u001b[39;00m\n\u001b[0;32m-> 1345\u001b[0m \u001b[39mwith\u001b[39;00m PcapReader(filename) \u001b[39mas\u001b[39;00m fdesc:  \u001b[39m# type: ignore\u001b[39;00m\n\u001b[1;32m   1346\u001b[0m     \u001b[39mreturn\u001b[39;00m fdesc\u001b[39m.\u001b[39mread_all(count\u001b[39m=\u001b[39mcount)\n",
      "File \u001b[0;32m~/qiskit/miniconda3/envs/qiskit/lib/python3.13/site-packages/scapy/utils.py:1385\u001b[0m, in \u001b[0;36mPcapReader_metaclass.__call__\u001b[0;34m(cls, filename)\u001b[0m\n\u001b[1;32m   1375\u001b[0m \u001b[39m\u001b[39m\u001b[39m\"\"\"Creates a cls instance, use the `alternative` if that\u001b[39;00m\n\u001b[1;32m   1376\u001b[0m \u001b[39mfails.\u001b[39;00m\n\u001b[1;32m   1377\u001b[0m \n\u001b[1;32m   1378\u001b[0m \u001b[39m\"\"\"\u001b[39;00m\n\u001b[1;32m   1379\u001b[0m i \u001b[39m=\u001b[39m \u001b[39mcls\u001b[39m\u001b[39m.\u001b[39m\u001b[39m__new__\u001b[39m(\n\u001b[1;32m   1380\u001b[0m     \u001b[39mcls\u001b[39m,\n\u001b[1;32m   1381\u001b[0m     \u001b[39mcls\u001b[39m\u001b[39m.\u001b[39m\u001b[39m__name__\u001b[39m,\n\u001b[1;32m   1382\u001b[0m     \u001b[39mcls\u001b[39m\u001b[39m.\u001b[39m\u001b[39m__bases__\u001b[39m,\n\u001b[1;32m   1383\u001b[0m     \u001b[39mcls\u001b[39m\u001b[39m.\u001b[39m\u001b[39m__dict__\u001b[39m  \u001b[39m# type: ignore\u001b[39;00m\n\u001b[1;32m   1384\u001b[0m )\n\u001b[0;32m-> 1385\u001b[0m filename, fdesc, magic \u001b[39m=\u001b[39m \u001b[39mcls\u001b[39;49m\u001b[39m.\u001b[39;49mopen(filename)\n\u001b[1;32m   1386\u001b[0m \u001b[39mif\u001b[39;00m \u001b[39mnot\u001b[39;00m magic:\n\u001b[1;32m   1387\u001b[0m     \u001b[39mraise\u001b[39;00m Scapy_Exception(\n\u001b[1;32m   1388\u001b[0m         \u001b[39m\"\u001b[39m\u001b[39mNo data could be read!\u001b[39m\u001b[39m\"\u001b[39m\n\u001b[1;32m   1389\u001b[0m     )\n",
      "File \u001b[0;32m~/qiskit/miniconda3/envs/qiskit/lib/python3.13/site-packages/scapy/utils.py:1419\u001b[0m, in \u001b[0;36mPcapReader_metaclass.open\u001b[0;34m(fname)\u001b[0m\n\u001b[1;32m   1417\u001b[0m \u001b[39mif\u001b[39;00m \u001b[39misinstance\u001b[39m(fname, \u001b[39mstr\u001b[39m):\n\u001b[1;32m   1418\u001b[0m     filename \u001b[39m=\u001b[39m fname\n\u001b[0;32m-> 1419\u001b[0m     fdesc \u001b[39m=\u001b[39m \u001b[39mopen\u001b[39;49m(filename, \u001b[39m\"\u001b[39;49m\u001b[39mrb\u001b[39;49m\u001b[39m\"\u001b[39;49m)  \u001b[39m# type: _ByteStream\u001b[39;00m\n\u001b[1;32m   1420\u001b[0m     magic \u001b[39m=\u001b[39m fdesc\u001b[39m.\u001b[39mread(\u001b[39m2\u001b[39m)\n\u001b[1;32m   1421\u001b[0m     \u001b[39mif\u001b[39;00m magic \u001b[39m==\u001b[39m \u001b[39mb\u001b[39m\u001b[39m\"\u001b[39m\u001b[39m\\x1f\u001b[39;00m\u001b[39m\\x8b\u001b[39;00m\u001b[39m\"\u001b[39m:\n\u001b[1;32m   1422\u001b[0m         \u001b[39m# GZIP header detected.\u001b[39;00m\n",
      "\u001b[0;31mFileNotFoundError\u001b[0m: [Errno 2] No such file or directory: '~/Desktop/traffic_data1.pcap'"
     ]
    }
   ],
   "source": [
    "from scapy.all import rdpcap, IP, TCP, UDP, Raw\n",
    "import pandas as pd\n",
    "\n",
    "packets = rdpcap(\"traffic_data1.pcap\")\n",
    "data = []\n",
    "\n",
    "for i, pkt in enumerate(packets):\n",
    "    if IP in pkt:\n",
    "        src_ip = pkt[IP].src\n",
    "        dst_ip = pkt[IP].dst\n",
    "        proto = \"Other\"\n",
    "        dst_port = None\n",
    "        src_port = None\n",
    "        flags = None\n",
    "        ttl = pkt[IP].ttl\n",
    "        payload_len = len(pkt[Raw].load) if Raw in pkt else 0\n",
    "        tcp_window = pkt[TCP].window if TCP in pkt else None\n",
    "        tcp_flags_int = pkt[TCP].flags.value if TCP in pkt else None\n",
    "\n",
    "        if TCP in pkt:\n",
    "            proto = \"TCP\"\n",
    "            dst_port = pkt[TCP].dport\n",
    "            src_port = pkt[TCP].sport\n",
    "            flags = pkt[TCP].flags\n",
    "        elif UDP in pkt:\n",
    "            proto = \"UDP\"\n",
    "            dst_port = pkt[UDP].dport\n",
    "            src_port = pkt[UDP].sport\n",
    "\n",
    "        data.append({\n",
    "            \"src_ip\": src_ip,\n",
    "            \"dst_ip\": dst_ip,\n",
    "            \"src_port\": src_port,\n",
    "            \"dst_port\": dst_port,\n",
    "            \"protocol\": proto,\n",
    "            \"packet_length\": len(pkt),\n",
    "            \"payload_len\": payload_len,\n",
    "            \"ttl\": ttl,\n",
    "            \"tcp_flags\": str(flags),\n",
    "            \"tcp_flags_int\": tcp_flags_int,\n",
    "            \"tcp_window\": tcp_window,\n",
    "            \"index\": i  # for ordering\n",
    "        })\n",
    "\n",
    "df = pd.DataFrame(data)\n",
    "df.to_csv(\"~/CNL_final/dataset/normal/traffic_data1.csv\", index=False)\n",
    "print(\"✅ 已成功擷取更多封包特徵，存為 packets_enriched.csv\")\n"
   ]
  },
  {
   "cell_type": "code",
   "execution_count": null,
   "metadata": {},
   "outputs": [],
   "source": []
  }
 ],
 "metadata": {
  "kernelspec": {
   "display_name": "qiskit",
   "language": "python",
   "name": "python3"
  },
  "language_info": {
   "codemirror_mode": {
    "name": "ipython",
    "version": 3
   },
   "file_extension": ".py",
   "mimetype": "text/x-python",
   "name": "python",
   "nbconvert_exporter": "python",
   "pygments_lexer": "ipython3",
   "version": "3.13.1"
  },
  "orig_nbformat": 4
 },
 "nbformat": 4,
 "nbformat_minor": 2
}
