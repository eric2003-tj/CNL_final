{
 "cells": [
  {
   "cell_type": "code",
   "execution_count": 1,
   "metadata": {},
   "outputs": [
    {
     "name": "stdout",
     "output_type": "stream",
     "text": [
      "✅ 合併完成：共 5 個檔案，491307 筆資料\n"
     ]
    },
    {
     "data": {
      "text/plain": [
       "['feature_scaler.joblib']"
      ]
     },
     "execution_count": 1,
     "metadata": {},
     "output_type": "execute_result"
    }
   ],
   "source": [
    "import os\n",
    "import pandas as pd\n",
    "\n",
    "# 設定資料夾根目錄（此資料夾下有多個子資料夾）\n",
    "root_folder = \"./new_dataset/csv/\"  # ← 請修改為你的實際資料夾路徑\n",
    "\n",
    "# 準備儲存所有讀到的 DataFrame\n",
    "df_list = []\n",
    "\n",
    "# 遞迴讀取每個子資料夾裡的 CSV 檔案\n",
    "for subdir, dirs, files in os.walk(root_folder):\n",
    "    for file in files:\n",
    "        if file.endswith(\".csv\"):\n",
    "            file_path = os.path.join(subdir, file)\n",
    "            try:\n",
    "                df = pd.read_csv(file_path)\n",
    "                df[\"source_file\"] = file  # 可選：記錄檔名\n",
    "                df[\"source_folder\"] = os.path.basename(subdir)  # 可選：記錄資料夾名\n",
    "                df_list.append(df)\n",
    "            except Exception as e:\n",
    "                print(f\"⚠️ 無法讀取 {file_path}: {e}\")\n",
    "\n",
    "# 合併成一個總表\n",
    "if df_list:\n",
    "    combined_df = pd.concat(df_list, ignore_index=True)\n",
    "    print(f\"✅ 合併完成：共 {len(df_list)} 個檔案，{len(combined_df)} 筆資料\")\n",
    "else:\n",
    "    print(\"⚠️ 沒有讀取到任何 CSV 檔案\")\n",
    "\n",
    "# 若要儲存成新檔：\n",
    "# combined_df.to_csv(\"merged_all_data.csv\", index=False)\n",
    "\n",
    "from sklearn.ensemble import IsolationForest\n",
    "from sklearn.preprocessing import StandardScaler, LabelEncoder\n",
    "\n",
    "ddf = combined_df\n",
    "\n",
    "# Handle missing values\n",
    "df.fillna({\n",
    "    \"protocol\": \"Other\",\n",
    "    \"src_port\": -1,\n",
    "    \"dst_port\": -1,\n",
    "    \"packet_length\": 0,\n",
    "    \"payload_len\": 0,\n",
    "    \"ttl\": 0,\n",
    "    \"tcp_flags_int\": 0,\n",
    "    \"tcp_window\": 0,\n",
    "    \"global_delta_time\": 0,\n",
    "    \"src_ip_delta_time\": 0\n",
    "}, inplace=True)\n",
    "\n",
    "# Encode protocol to numeric values\n",
    "df[\"protocol_encoded\"] = LabelEncoder().fit_transform(df[\"protocol\"])\n",
    "\n",
    "# Define features to use\n",
    "feature_cols = [\n",
    "    \"protocol_encoded\",\n",
    "    \"src_port\",\n",
    "    \"dst_port\",\n",
    "    \"packet_length\",\n",
    "    \"payload_len\",\n",
    "    \"ttl\",\n",
    "    \"tcp_flags_int\",\n",
    "    \"tcp_window\",\n",
    "    \"global_delta_time\",\n",
    "    \"src_ip_delta_time\"\n",
    "]\n",
    "\n",
    "\n",
    "# Extract feature matrix and normalize\n",
    "X = df[feature_cols]\n",
    "scaler = StandardScaler()\n",
    "X_scaled = scaler.fit_transform(X)\n",
    "\n",
    "# Train Isolation Forest\n",
    "model = IsolationForest(contamination=0.1, random_state=42)\n",
    "df[\"prediction\"] = model.fit_predict(X_scaled)\n",
    "df[\"anomaly\"] = df[\"prediction\"].apply(lambda x: 1 if x == -1 else 0)\n",
    "\n",
    "import joblib  # for model saving\n",
    "# Save model and scaler\n",
    "joblib.dump(model, \"isolation_forest_model.joblib\")\n",
    "joblib.dump(scaler, \"feature_scaler.joblib\")\n"
   ]
  },
  {
   "cell_type": "code",
   "execution_count": null,
   "metadata": {},
   "outputs": [],
   "source": []
  }
 ],
 "metadata": {
  "kernelspec": {
   "display_name": "qiskit",
   "language": "python",
   "name": "python3"
  },
  "language_info": {
   "codemirror_mode": {
    "name": "ipython",
    "version": 3
   },
   "file_extension": ".py",
   "mimetype": "text/x-python",
   "name": "python",
   "nbconvert_exporter": "python",
   "pygments_lexer": "ipython3",
   "version": "3.13.1"
  },
  "orig_nbformat": 4
 },
 "nbformat": 4,
 "nbformat_minor": 2
}
