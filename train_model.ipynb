{
 "cells": [
  {
   "cell_type": "code",
   "execution_count": 7,
   "metadata": {},
   "outputs": [
    {
     "name": "stdout",
     "output_type": "stream",
     "text": [
      "✅ 已合併 3 個檔案，共 6532 筆資料\n"
     ]
    }
   ],
   "source": [
    "import os\n",
    "import pandas as pd\n",
    "\n",
    "# 指定你放 csv 檔案的資料夾路徑\n",
    "folder_path = \"./dataset/normal\"  # ⬅ 請換成你的實際路徑\n",
    "\n",
    "# 取得所有 csv 檔案名稱\n",
    "csv_files = [f for f in os.listdir(folder_path) if f.endswith(\".csv\")]\n",
    "\n",
    "# 讀入並合併成一個 DataFrame\n",
    "df_list = [pd.read_csv(os.path.join(folder_path, f)) for f in csv_files]\n",
    "combined_df = pd.concat(df_list, ignore_index=True)\n",
    "\n",
    "# ✅ 完成！你可以直接使用 combined_df 做後續操作\n",
    "print(f\"✅ 已合併 {len(csv_files)} 個檔案，共 {len(combined_df)} 筆資料\")"
   ]
  },
  {
   "cell_type": "code",
   "execution_count": 10,
   "metadata": {},
   "outputs": [],
   "source": [
    "import pandas as pd\n",
    "from sklearn.ensemble import IsolationForest\n",
    "from sklearn.preprocessing import StandardScaler, LabelEncoder\n",
    "\n",
    "df = combined_df\n",
    "\n",
    "\n",
    "# Handle missing values\n",
    "df.fillna({\n",
    "    \"protocol\": \"Other\",\n",
    "    \"src_port\": -1,\n",
    "    \"dst_port\": -1,\n",
    "    \"packet_length\": 0,\n",
    "    \"payload_len\": 0,\n",
    "    \"ttl\": 0,\n",
    "    \"tcp_flags_int\": 0,\n",
    "    \"tcp_window\": 0\n",
    "}, inplace=True)\n",
    "\n",
    "# Encode protocol to numeric values\n",
    "df[\"protocol_encoded\"] = LabelEncoder().fit_transform(df[\"protocol\"])\n",
    "\n",
    "# Define features to use\n",
    "feature_cols = [\n",
    "    \"protocol_encoded\",\n",
    "    \"src_port\",\n",
    "    \"dst_port\",\n",
    "    \"packet_length\",\n",
    "    \"payload_len\",\n",
    "    \"ttl\",\n",
    "    \"tcp_flags_int\",\n",
    "    \"tcp_window\"\n",
    "]\n",
    "\n",
    "# Extract feature matrix and normalize\n",
    "X = df[feature_cols]\n",
    "scaler = StandardScaler()\n",
    "X_scaled = scaler.fit_transform(X)\n",
    "\n",
    "# Train Isolation Forest\n",
    "model = IsolationForest(contamination=0.1, random_state=42)\n",
    "df[\"prediction\"] = model.fit_predict(X_scaled)\n",
    "df[\"anomaly\"] = df[\"prediction\"].apply(lambda x: 1 if x == -1 else 0)\n"
   ]
  },
  {
   "cell_type": "code",
   "execution_count": 11,
   "metadata": {},
   "outputs": [
    {
     "data": {
      "text/plain": [
       "['feature_scaler.joblib']"
      ]
     },
     "execution_count": 11,
     "metadata": {},
     "output_type": "execute_result"
    }
   ],
   "source": [
    "import joblib  # for model saving\n",
    "# Save model and scaler\n",
    "joblib.dump(model, \"isolation_forest_model.joblib\")\n",
    "joblib.dump(scaler, \"feature_scaler.joblib\")"
   ]
  },
  {
   "cell_type": "code",
   "execution_count": null,
   "metadata": {},
   "outputs": [],
   "source": []
  }
 ],
 "metadata": {
  "kernelspec": {
   "display_name": "qiskit",
   "language": "python",
   "name": "python3"
  },
  "language_info": {
   "codemirror_mode": {
    "name": "ipython",
    "version": 3
   },
   "file_extension": ".py",
   "mimetype": "text/x-python",
   "name": "python",
   "nbconvert_exporter": "python",
   "pygments_lexer": "ipython3",
   "version": "3.13.1"
  },
  "orig_nbformat": 4
 },
 "nbformat": 4,
 "nbformat_minor": 2
}
