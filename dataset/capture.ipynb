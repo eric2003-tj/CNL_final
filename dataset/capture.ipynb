{
 "cells": [
  {
   "cell_type": "code",
   "execution_count": 2,
   "metadata": {},
   "outputs": [
    {
     "name": "stdout",
     "output_type": "stream",
     "text": [
      "Collecting scapy\n",
      "  Using cached scapy-2.6.1-py3-none-any.whl.metadata (5.6 kB)\n",
      "Using cached scapy-2.6.1-py3-none-any.whl (2.4 MB)\n",
      "Installing collected packages: scapy\n",
      "Successfully installed scapy-2.6.1\n"
     ]
    }
   ],
   "source": [
    "!pip install scapy"
   ]
  },
  {
   "cell_type": "code",
   "execution_count": 1,
   "metadata": {},
   "outputs": [
    {
     "name": "stdout",
     "output_type": "stream",
     "text": [
      "✅ 已成功擷取更多封包特徵，存為 packets_enriched.csv\n"
     ]
    }
   ],
   "source": [
    "from scapy.all import rdpcap, IP, TCP, UDP, Raw\n",
    "import pandas as pd\n",
    "\n",
    "packets = rdpcap(\"sample_traffic.pcap\")\n",
    "data = []\n",
    "\n",
    "for i, pkt in enumerate(packets):\n",
    "    if IP in pkt:\n",
    "        src_ip = pkt[IP].src\n",
    "        dst_ip = pkt[IP].dst\n",
    "        proto = \"Other\"\n",
    "        dst_port = None\n",
    "        src_port = None\n",
    "        flags = None\n",
    "        ttl = pkt[IP].ttl\n",
    "        payload_len = len(pkt[Raw].load) if Raw in pkt else 0\n",
    "        tcp_window = pkt[TCP].window if TCP in pkt else None\n",
    "        tcp_flags_int = pkt[TCP].flags.value if TCP in pkt else None\n",
    "\n",
    "        if TCP in pkt:\n",
    "            proto = \"TCP\"\n",
    "            dst_port = pkt[TCP].dport\n",
    "            src_port = pkt[TCP].sport\n",
    "            flags = pkt[TCP].flags\n",
    "        elif UDP in pkt:\n",
    "            proto = \"UDP\"\n",
    "            dst_port = pkt[UDP].dport\n",
    "            src_port = pkt[UDP].sport\n",
    "\n",
    "        data.append({\n",
    "            \"src_ip\": src_ip,\n",
    "            \"dst_ip\": dst_ip,\n",
    "            \"src_port\": src_port,\n",
    "            \"dst_port\": dst_port,\n",
    "            \"protocol\": proto,\n",
    "            \"packet_length\": len(pkt),\n",
    "            \"payload_len\": payload_len,\n",
    "            \"ttl\": ttl,\n",
    "            \"tcp_flags\": str(flags),\n",
    "            \"tcp_flags_int\": tcp_flags_int,\n",
    "            \"tcp_window\": tcp_window,\n",
    "            \"index\": i  # for ordering\n",
    "        })\n",
    "\n",
    "df = pd.DataFrame(data)\n",
    "df.to_csv(\"packets_enriched.csv\", index=False)\n",
    "print(\"✅ 已成功擷取更多封包特徵，存為 packets_enriched.csv\")\n"
   ]
  }
 ],
 "metadata": {
  "kernelspec": {
   "display_name": "qiskit",
   "language": "python",
   "name": "python3"
  },
  "language_info": {
   "codemirror_mode": {
    "name": "ipython",
    "version": 3
   },
   "file_extension": ".py",
   "mimetype": "text/x-python",
   "name": "python",
   "nbconvert_exporter": "python",
   "pygments_lexer": "ipython3",
   "version": "3.13.1"
  },
  "orig_nbformat": 4
 },
 "nbformat": 4,
 "nbformat_minor": 2
}
